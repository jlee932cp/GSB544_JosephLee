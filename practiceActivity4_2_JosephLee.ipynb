{
 "cells": [
  {
   "cell_type": "raw",
   "metadata": {},
   "source": [
    "---\n",
    "self-contained: true\n",
    "title: GSB544 Practice Activity 4.2\n",
    "author: Joseph Lee\n",
    "date: 10/19/2023\n",
    "format:\n",
    "    html:\n",
    "        theme: \"minty\"\n",
    "---"
   ]
  },
  {
   "cell_type": "markdown",
   "metadata": {
    "id": "kPj76X_FP2uq"
   },
   "source": [
    "## Setup\n",
    "\n",
    "Run the code below to load the scrambled message:\n"
   ]
  },
  {
   "cell_type": "code",
   "execution_count": 1,
   "metadata": {
    "colab": {
     "base_uri": "https://localhost:8080/"
    },
    "id": "-eE7BXacI92a",
    "outputId": "64965666-f005-4081-a20c-af4429fa1ec6"
   },
   "outputs": [
    {
     "name": "stdout",
     "output_type": "stream",
     "text": [
      "Mounted at /content/drive\n"
     ]
    }
   ],
   "source": [
    "from google.colab import drive\n",
    "drive.mount('/content/drive')"
   ]
  },
  {
   "cell_type": "code",
   "execution_count": 4,
   "metadata": {
    "id": "YwkYMR2qP2ur"
   },
   "outputs": [],
   "source": [
    "import pandas as pd\n",
    "\n",
    "message = pd.read_csv(\"https://www.dropbox.com/s/lgpn3vmksk3ssdo/scrambled_message.txt?dl=1\")['Word']"
   ]
  },
  {
   "cell_type": "markdown",
   "metadata": {
    "id": "cI8ZE3LAP2us"
   },
   "source": [
    "In this activity, a \"word\" refers to any set of characters with no white space, even though they are not truly an English word.  That is, even though many of elements of the scrambled message vector are nonsense, and some have punctuation, you can consider each element to be a \"word\".\n",
    "\n",
    "Beware!  The object named `message` is a **pandas Series** of strings.  If you want to use functions that expect a string, rather than a series, remember `.apply()` and `lambda` functions.\n",
    "\n"
   ]
  },
  {
   "cell_type": "markdown",
   "metadata": {
    "id": "dYISAD8uQLAy"
   },
   "source": [
    "\n",
    "## Warm-up exercises\n",
    "\n",
    "1. How many characters are in the scrambled message?\n",
    "2. How many of these characters are white space?\n",
    "3. How many words are in the scrambled message?\n",
    "4. Show all the punctuation marks in the scrambled message.\n",
    "5. Print out, in all capitals, the longest word in the scrambled message.\n",
    "6. Print out every piece of a word that starts with the letter \"m\" and ends with the letter \"z\" in the scrambled message."
   ]
  },
  {
   "cell_type": "markdown",
   "metadata": {
    "id": "l3iJnnCJQOh7"
   },
   "source": [
    "\n",
    "\n",
    "## Decode a message\n",
    "\n",
    "Complete the following steps to decode the message.  \n",
    "\n",
    "1. Remove any spaces before or after each word.\n",
    "2. Any time you see the word \"ugh\", with any number of h's, followed by a punctuation mark, delete this.\n",
    "3. No word should be longer than 16 characters. Drop all extra characters beyond 13 off the end of each word.\n",
    "4. Replace all instances of exactly 2 a's with exactly 2 e's.\n",
    "5. Replace all z's with t's.\n",
    "6. Every word that ends in b, change that to a y.  *Hint: look out for punctuation!*\n",
    "7. Every word that starts with k, change that to a v.  *Hint: look out for capitalization!*\n",
    "8. Use `.join()` to recombine all your words into a message.\n",
    "9. Find the movie this quote is from."
   ]
  },
  {
   "cell_type": "markdown",
   "metadata": {
    "id": "ABIaWZ62CX-b"
   },
   "source": [
    "## Warm-up exercises"
   ]
  },
  {
   "cell_type": "code",
   "execution_count": 12,
   "metadata": {
    "id": "5k6blFqqCfHJ"
   },
   "outputs": [],
   "source": [
    "import re"
   ]
  },
  {
   "cell_type": "code",
   "execution_count": 7,
   "metadata": {
    "colab": {
     "base_uri": "https://localhost:8080/"
    },
    "id": "RRfjUzxMQQ5j",
    "outputId": "a2feb38e-0be8-4ff9-e5a3-a4858c8f7043"
   },
   "outputs": [
    {
     "data": {
      "text/plain": [
       "2544"
      ]
     },
     "execution_count": 7,
     "metadata": {},
     "output_type": "execute_result"
    }
   ],
   "source": [
    "# 1. How many characters are in the scrambled message?\n",
    "message.apply(len).sum()"
   ]
  },
  {
   "cell_type": "code",
   "execution_count": 10,
   "metadata": {
    "colab": {
     "base_uri": "https://localhost:8080/"
    },
    "id": "ibabjeEQAuCt",
    "outputId": "cb670c8d-de14-4c6b-be3e-97e046122760"
   },
   "outputs": [
    {
     "data": {
      "text/plain": [
       "1652"
      ]
     },
     "execution_count": 10,
     "metadata": {},
     "output_type": "execute_result"
    }
   ],
   "source": [
    "#2. How many of these characters are white space?\n",
    "white_spaces = message.apply(lambda x: len(re.findall(r'\\s', x)))\n",
    "white_spaces.sum()"
   ]
  },
  {
   "cell_type": "code",
   "execution_count": 11,
   "metadata": {
    "colab": {
     "base_uri": "https://localhost:8080/"
    },
    "id": "RBbCA_efCIVw",
    "outputId": "564b0760-db07-4fd5-ae8d-5dca59e691b5"
   },
   "outputs": [
    {
     "data": {
      "text/plain": [
       "127"
      ]
     },
     "execution_count": 11,
     "metadata": {},
     "output_type": "execute_result"
    }
   ],
   "source": [
    "#3. How many words are in the scrambled message?\n",
    "message.apply(lambda x: len(x.split())).sum()"
   ]
  },
  {
   "cell_type": "code",
   "execution_count": 17,
   "metadata": {
    "colab": {
     "base_uri": "https://localhost:8080/"
    },
    "id": "zg4mz6HVCbOb",
    "outputId": "daa8292e-93e8-4094-e381-cd49a3f3fa73"
   },
   "outputs": [
    {
     "name": "stdout",
     "output_type": "stream",
     "text": [
      "{'?', '!', '.', ',', ';'}\n"
     ]
    }
   ],
   "source": [
    "#4. Show all the punctuation marks in the scrambled message.\n",
    "# Extract punctuation marks from each string in the Series\n",
    "punctuation_per_word = message.apply(lambda x: set(re.findall(r'[^\\w\\s]', x)))\n",
    "\n",
    "# Collect all unique punctuation marks using set comprehension\n",
    "all_punctuation = {punct for punct_set in punctuation_per_word for punct in punct_set}\n",
    "\n",
    "print(all_punctuation)"
   ]
  },
  {
   "cell_type": "code",
   "execution_count": 19,
   "metadata": {
    "colab": {
     "base_uri": "https://localhost:8080/",
     "height": 36
    },
    "id": "wpHzKH1TCbL-",
    "outputId": "6a4b9548-96b8-46e6-aa1a-4a4cf7718d11"
   },
   "outputs": [
    {
     "data": {
      "application/vnd.google.colaboratory.intrinsic+json": {
       "type": "string"
      },
      "text/plain": [
       "'KAUDEVILLIANUGH?AOGHAJDBN'"
      ]
     },
     "execution_count": 19,
     "metadata": {},
     "output_type": "execute_result"
    }
   ],
   "source": [
    "#5. Print out, in all capitals, the longest word in the scrambled message.\n",
    "max(message, key=len).upper()"
   ]
  },
  {
   "cell_type": "code",
   "execution_count": 20,
   "metadata": {
    "colab": {
     "base_uri": "https://localhost:8080/"
    },
    "id": "mNGknuY2CbKB",
    "outputId": "aae9c8df-9adc-4a46-a410-e47b2e520c79"
   },
   "outputs": [
    {
     "data": {
      "text/plain": [
       "[]"
      ]
     },
     "execution_count": 20,
     "metadata": {},
     "output_type": "execute_result"
    }
   ],
   "source": [
    "#6. Print out every piece of a word that starts with the letter \"m\" and ends with the letter \"z\" in the scrambled message.\n",
    "message[message.apply(lambda x: bool(re.match(r'\\bm\\w*z\\b', x, re.IGNORECASE)))].tolist()"
   ]
  },
  {
   "cell_type": "markdown",
   "metadata": {
    "id": "j7kz0p5tD-yV"
   },
   "source": [
    "## Decode a message"
   ]
  },
  {
   "cell_type": "code",
   "execution_count": 21,
   "metadata": {
    "colab": {
     "base_uri": "https://localhost:8080/"
    },
    "id": "vzIMsK_NCbHz",
    "outputId": "acc5bfcc-1eb8-46bf-d34e-c9710f0fdc74"
   },
   "outputs": [
    {
     "name": "stdout",
     "output_type": "stream",
     "text": [
      "Voila! In view, a humble vaudevilliana veteran, cast vicariously as both victim and villain by the vicissitudes of fate. This visage, no mere veneer of vanity, is a vestige of the vox populi now vacant, vanished. However, this valorous visitation of a bygone vexation stands vivified, and has vowed to vanquish these venal and virulent vermin, van guarding vice and vouchsafing the violently vicious and voracious violation of volition. The only verdict is vengeance; a vendetta, held as a votive not in vain, for the value and veracity of such shall one day vindicate the vigilant and the virtuous. Verily this vichyssoise of verbiage veers most verbose, so let me simply add that its my very good honour to meet you and you may call me V.\n"
     ]
    }
   ],
   "source": [
    "# 1. Remove spaces before or after each word\n",
    "message = message.str.strip()\n",
    "\n",
    "# 2. Delete \"ugh\" with any number of h's followed by a punctuation mark\n",
    "message = message.str.replace(r'ugh+h*[^\\w\\s]', '', regex=True)\n",
    "\n",
    "# 3. Limit word length to 13 characters\n",
    "message = message.apply(lambda x: x[:13])\n",
    "\n",
    "# 4. Replace instances of exactly 2 a's with 2 e's\n",
    "message = message.str.replace(r'aa', 'ee')\n",
    "\n",
    "# 5. Replace all z's with t's\n",
    "message = message.str.replace('z', 't')\n",
    "\n",
    "# 6. Change ending b to y\n",
    "message = message.str.replace(r'b(\\W?)$', r'y\\1', regex=True)\n",
    "\n",
    "# 7. Change starting k to v (considering capitalization)\n",
    "message = message.str.replace(r'^k', 'v', regex=True).str.replace(r'^K', 'V', regex=True)\n",
    "\n",
    "# 8. Recombine words into a message\n",
    "decoded_message = ' '.join(message)\n",
    "\n",
    "print(decoded_message)\n"
   ]
  },
  {
   "cell_type": "code",
   "execution_count": null,
   "metadata": {
    "id": "_Y6Pq4I6CbFQ"
   },
   "outputs": [],
   "source": []
  },
  {
   "cell_type": "code",
   "execution_count": null,
   "metadata": {
    "id": "vItyPpxFCbDG"
   },
   "outputs": [],
   "source": []
  }
 ],
 "metadata": {
  "colab": {
   "provenance": []
  },
  "kernelspec": {
   "display_name": "Python 3 (ipykernel)",
   "language": "python",
   "name": "python3"
  },
  "language_info": {
   "codemirror_mode": {
    "name": "ipython",
    "version": 3
   },
   "file_extension": ".py",
   "mimetype": "text/x-python",
   "name": "python",
   "nbconvert_exporter": "python",
   "pygments_lexer": "ipython3",
   "version": "3.11.4"
  }
 },
 "nbformat": 4,
 "nbformat_minor": 1
}
